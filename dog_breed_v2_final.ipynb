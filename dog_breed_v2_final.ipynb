{
 "cells": [
  {
   "cell_type": "code",
   "execution_count": 1,
   "metadata": {},
   "outputs": [],
   "source": [
    "import torchvision.models as models\n",
    "import torch\n",
    "from torch import nn, optim\n",
    "from torchvision import transforms\n",
    "import numpy as np\n",
    "import pandas as pd\n",
    "from sklearn.metrics import classification_report, accuracy_score, f1_score\n",
    "from help_func_torch.lion_pytorch import Lion\n",
    "from help_func_torch.my_function import MyDataset, train_model, test_model, plot_history"
   ]
  },
  {
   "cell_type": "code",
   "execution_count": 2,
   "metadata": {},
   "outputs": [
    {
     "data": {
      "text/plain": [
       "device(type='cuda')"
      ]
     },
     "execution_count": 2,
     "metadata": {},
     "output_type": "execute_result"
    }
   ],
   "source": [
    "weights = models.ViT_B_16_Weights.IMAGENET1K_V1\n",
    "preprocess = weights.transforms(antialias=True)\n",
    "\n",
    "device = torch.device('cuda' if torch.cuda.is_available() else 'cpu')\n",
    "device"
   ]
  },
  {
   "cell_type": "code",
   "execution_count": 3,
   "metadata": {},
   "outputs": [],
   "source": [
    "batch_size = 32\n",
    "epochs = 15\n",
    "patience = 5\n",
    "path = 'dpl-project-1-dog-breed-identification/'"
   ]
  },
  {
   "cell_type": "code",
   "execution_count": 4,
   "metadata": {},
   "outputs": [
    {
     "name": "stdout",
     "output_type": "stream",
     "text": [
      "train data: 9200\n",
      "val data: 1022\n"
     ]
    }
   ],
   "source": [
    "labels_data = pd.read_csv(path + 'labels.csv')\n",
    "percent_split = np.array([0.8, 0.1, 0.1])\n",
    "train_size, val_size, test_size = (percent_split * len(labels_data)).round().astype(np.int_).tolist()\n",
    "\n",
    "train_df = labels_data.sample(train_size, random_state=42)\n",
    "\n",
    "mask = list(set(labels_data.index) - set(train_df.index))\n",
    "val_df = labels_data.iloc[mask].sample(val_size, random_state=42)\n",
    "\n",
    "mask = list(set(labels_data.index) - set(train_df.index) - set(val_df.index))\n",
    "test_df = labels_data.iloc[mask]\n",
    "\n",
    "train_df = pd.concat([train_df, val_df])\n",
    "val_df = test_df\n",
    "\n",
    "print('train data:', len(train_df))\n",
    "print('val data:', len(val_df))"
   ]
  },
  {
   "cell_type": "code",
   "execution_count": 5,
   "metadata": {},
   "outputs": [],
   "source": [
    "data_augmentation = transforms.Compose([preprocess,\n",
    "                                        transforms.RandomRotation(30),\n",
    "                                        transforms.RandomHorizontalFlip(0.6),\n",
    "                                        ])\n",
    "\n",
    "\n",
    "train_data = MyDataset(directory=path + 'train/', subset=train_df, transform=data_augmentation)\n",
    "val_data = MyDataset(directory=path + 'train/', subset=val_df, transform=preprocess)"
   ]
  },
  {
   "cell_type": "code",
   "execution_count": 6,
   "metadata": {},
   "outputs": [],
   "source": [
    "labels_dict = train_data.labels_dict()\n",
    "out_dims = len(labels_dict)"
   ]
  },
  {
   "cell_type": "code",
   "execution_count": 7,
   "metadata": {},
   "outputs": [
    {
     "data": {
      "text/plain": [
       "VisionTransformer(\n",
       "  (conv_proj): Conv2d(3, 768, kernel_size=(16, 16), stride=(16, 16))\n",
       "  (encoder): Encoder(\n",
       "    (dropout): Dropout(p=0.0, inplace=False)\n",
       "    (layers): Sequential(\n",
       "      (encoder_layer_0): EncoderBlock(\n",
       "        (ln_1): LayerNorm((768,), eps=1e-06, elementwise_affine=True)\n",
       "        (self_attention): MultiheadAttention(\n",
       "          (out_proj): NonDynamicallyQuantizableLinear(in_features=768, out_features=768, bias=True)\n",
       "        )\n",
       "        (dropout): Dropout(p=0.0, inplace=False)\n",
       "        (ln_2): LayerNorm((768,), eps=1e-06, elementwise_affine=True)\n",
       "        (mlp): MLPBlock(\n",
       "          (0): Linear(in_features=768, out_features=3072, bias=True)\n",
       "          (1): GELU(approximate='none')\n",
       "          (2): Dropout(p=0.0, inplace=False)\n",
       "          (3): Linear(in_features=3072, out_features=768, bias=True)\n",
       "          (4): Dropout(p=0.0, inplace=False)\n",
       "        )\n",
       "      )\n",
       "      (encoder_layer_1): EncoderBlock(\n",
       "        (ln_1): LayerNorm((768,), eps=1e-06, elementwise_affine=True)\n",
       "        (self_attention): MultiheadAttention(\n",
       "          (out_proj): NonDynamicallyQuantizableLinear(in_features=768, out_features=768, bias=True)\n",
       "        )\n",
       "        (dropout): Dropout(p=0.0, inplace=False)\n",
       "        (ln_2): LayerNorm((768,), eps=1e-06, elementwise_affine=True)\n",
       "        (mlp): MLPBlock(\n",
       "          (0): Linear(in_features=768, out_features=3072, bias=True)\n",
       "          (1): GELU(approximate='none')\n",
       "          (2): Dropout(p=0.0, inplace=False)\n",
       "          (3): Linear(in_features=3072, out_features=768, bias=True)\n",
       "          (4): Dropout(p=0.0, inplace=False)\n",
       "        )\n",
       "      )\n",
       "      (encoder_layer_2): EncoderBlock(\n",
       "        (ln_1): LayerNorm((768,), eps=1e-06, elementwise_affine=True)\n",
       "        (self_attention): MultiheadAttention(\n",
       "          (out_proj): NonDynamicallyQuantizableLinear(in_features=768, out_features=768, bias=True)\n",
       "        )\n",
       "        (dropout): Dropout(p=0.0, inplace=False)\n",
       "        (ln_2): LayerNorm((768,), eps=1e-06, elementwise_affine=True)\n",
       "        (mlp): MLPBlock(\n",
       "          (0): Linear(in_features=768, out_features=3072, bias=True)\n",
       "          (1): GELU(approximate='none')\n",
       "          (2): Dropout(p=0.0, inplace=False)\n",
       "          (3): Linear(in_features=3072, out_features=768, bias=True)\n",
       "          (4): Dropout(p=0.0, inplace=False)\n",
       "        )\n",
       "      )\n",
       "      (encoder_layer_3): EncoderBlock(\n",
       "        (ln_1): LayerNorm((768,), eps=1e-06, elementwise_affine=True)\n",
       "        (self_attention): MultiheadAttention(\n",
       "          (out_proj): NonDynamicallyQuantizableLinear(in_features=768, out_features=768, bias=True)\n",
       "        )\n",
       "        (dropout): Dropout(p=0.0, inplace=False)\n",
       "        (ln_2): LayerNorm((768,), eps=1e-06, elementwise_affine=True)\n",
       "        (mlp): MLPBlock(\n",
       "          (0): Linear(in_features=768, out_features=3072, bias=True)\n",
       "          (1): GELU(approximate='none')\n",
       "          (2): Dropout(p=0.0, inplace=False)\n",
       "          (3): Linear(in_features=3072, out_features=768, bias=True)\n",
       "          (4): Dropout(p=0.0, inplace=False)\n",
       "        )\n",
       "      )\n",
       "      (encoder_layer_4): EncoderBlock(\n",
       "        (ln_1): LayerNorm((768,), eps=1e-06, elementwise_affine=True)\n",
       "        (self_attention): MultiheadAttention(\n",
       "          (out_proj): NonDynamicallyQuantizableLinear(in_features=768, out_features=768, bias=True)\n",
       "        )\n",
       "        (dropout): Dropout(p=0.0, inplace=False)\n",
       "        (ln_2): LayerNorm((768,), eps=1e-06, elementwise_affine=True)\n",
       "        (mlp): MLPBlock(\n",
       "          (0): Linear(in_features=768, out_features=3072, bias=True)\n",
       "          (1): GELU(approximate='none')\n",
       "          (2): Dropout(p=0.0, inplace=False)\n",
       "          (3): Linear(in_features=3072, out_features=768, bias=True)\n",
       "          (4): Dropout(p=0.0, inplace=False)\n",
       "        )\n",
       "      )\n",
       "      (encoder_layer_5): EncoderBlock(\n",
       "        (ln_1): LayerNorm((768,), eps=1e-06, elementwise_affine=True)\n",
       "        (self_attention): MultiheadAttention(\n",
       "          (out_proj): NonDynamicallyQuantizableLinear(in_features=768, out_features=768, bias=True)\n",
       "        )\n",
       "        (dropout): Dropout(p=0.0, inplace=False)\n",
       "        (ln_2): LayerNorm((768,), eps=1e-06, elementwise_affine=True)\n",
       "        (mlp): MLPBlock(\n",
       "          (0): Linear(in_features=768, out_features=3072, bias=True)\n",
       "          (1): GELU(approximate='none')\n",
       "          (2): Dropout(p=0.0, inplace=False)\n",
       "          (3): Linear(in_features=3072, out_features=768, bias=True)\n",
       "          (4): Dropout(p=0.0, inplace=False)\n",
       "        )\n",
       "      )\n",
       "      (encoder_layer_6): EncoderBlock(\n",
       "        (ln_1): LayerNorm((768,), eps=1e-06, elementwise_affine=True)\n",
       "        (self_attention): MultiheadAttention(\n",
       "          (out_proj): NonDynamicallyQuantizableLinear(in_features=768, out_features=768, bias=True)\n",
       "        )\n",
       "        (dropout): Dropout(p=0.0, inplace=False)\n",
       "        (ln_2): LayerNorm((768,), eps=1e-06, elementwise_affine=True)\n",
       "        (mlp): MLPBlock(\n",
       "          (0): Linear(in_features=768, out_features=3072, bias=True)\n",
       "          (1): GELU(approximate='none')\n",
       "          (2): Dropout(p=0.0, inplace=False)\n",
       "          (3): Linear(in_features=3072, out_features=768, bias=True)\n",
       "          (4): Dropout(p=0.0, inplace=False)\n",
       "        )\n",
       "      )\n",
       "      (encoder_layer_7): EncoderBlock(\n",
       "        (ln_1): LayerNorm((768,), eps=1e-06, elementwise_affine=True)\n",
       "        (self_attention): MultiheadAttention(\n",
       "          (out_proj): NonDynamicallyQuantizableLinear(in_features=768, out_features=768, bias=True)\n",
       "        )\n",
       "        (dropout): Dropout(p=0.0, inplace=False)\n",
       "        (ln_2): LayerNorm((768,), eps=1e-06, elementwise_affine=True)\n",
       "        (mlp): MLPBlock(\n",
       "          (0): Linear(in_features=768, out_features=3072, bias=True)\n",
       "          (1): GELU(approximate='none')\n",
       "          (2): Dropout(p=0.0, inplace=False)\n",
       "          (3): Linear(in_features=3072, out_features=768, bias=True)\n",
       "          (4): Dropout(p=0.0, inplace=False)\n",
       "        )\n",
       "      )\n",
       "      (encoder_layer_8): EncoderBlock(\n",
       "        (ln_1): LayerNorm((768,), eps=1e-06, elementwise_affine=True)\n",
       "        (self_attention): MultiheadAttention(\n",
       "          (out_proj): NonDynamicallyQuantizableLinear(in_features=768, out_features=768, bias=True)\n",
       "        )\n",
       "        (dropout): Dropout(p=0.0, inplace=False)\n",
       "        (ln_2): LayerNorm((768,), eps=1e-06, elementwise_affine=True)\n",
       "        (mlp): MLPBlock(\n",
       "          (0): Linear(in_features=768, out_features=3072, bias=True)\n",
       "          (1): GELU(approximate='none')\n",
       "          (2): Dropout(p=0.0, inplace=False)\n",
       "          (3): Linear(in_features=3072, out_features=768, bias=True)\n",
       "          (4): Dropout(p=0.0, inplace=False)\n",
       "        )\n",
       "      )\n",
       "      (encoder_layer_9): EncoderBlock(\n",
       "        (ln_1): LayerNorm((768,), eps=1e-06, elementwise_affine=True)\n",
       "        (self_attention): MultiheadAttention(\n",
       "          (out_proj): NonDynamicallyQuantizableLinear(in_features=768, out_features=768, bias=True)\n",
       "        )\n",
       "        (dropout): Dropout(p=0.0, inplace=False)\n",
       "        (ln_2): LayerNorm((768,), eps=1e-06, elementwise_affine=True)\n",
       "        (mlp): MLPBlock(\n",
       "          (0): Linear(in_features=768, out_features=3072, bias=True)\n",
       "          (1): GELU(approximate='none')\n",
       "          (2): Dropout(p=0.0, inplace=False)\n",
       "          (3): Linear(in_features=3072, out_features=768, bias=True)\n",
       "          (4): Dropout(p=0.0, inplace=False)\n",
       "        )\n",
       "      )\n",
       "      (encoder_layer_10): EncoderBlock(\n",
       "        (ln_1): LayerNorm((768,), eps=1e-06, elementwise_affine=True)\n",
       "        (self_attention): MultiheadAttention(\n",
       "          (out_proj): NonDynamicallyQuantizableLinear(in_features=768, out_features=768, bias=True)\n",
       "        )\n",
       "        (dropout): Dropout(p=0.0, inplace=False)\n",
       "        (ln_2): LayerNorm((768,), eps=1e-06, elementwise_affine=True)\n",
       "        (mlp): MLPBlock(\n",
       "          (0): Linear(in_features=768, out_features=3072, bias=True)\n",
       "          (1): GELU(approximate='none')\n",
       "          (2): Dropout(p=0.0, inplace=False)\n",
       "          (3): Linear(in_features=3072, out_features=768, bias=True)\n",
       "          (4): Dropout(p=0.0, inplace=False)\n",
       "        )\n",
       "      )\n",
       "      (encoder_layer_11): EncoderBlock(\n",
       "        (ln_1): LayerNorm((768,), eps=1e-06, elementwise_affine=True)\n",
       "        (self_attention): MultiheadAttention(\n",
       "          (out_proj): NonDynamicallyQuantizableLinear(in_features=768, out_features=768, bias=True)\n",
       "        )\n",
       "        (dropout): Dropout(p=0.0, inplace=False)\n",
       "        (ln_2): LayerNorm((768,), eps=1e-06, elementwise_affine=True)\n",
       "        (mlp): MLPBlock(\n",
       "          (0): Linear(in_features=768, out_features=3072, bias=True)\n",
       "          (1): GELU(approximate='none')\n",
       "          (2): Dropout(p=0.0, inplace=False)\n",
       "          (3): Linear(in_features=3072, out_features=768, bias=True)\n",
       "          (4): Dropout(p=0.0, inplace=False)\n",
       "        )\n",
       "      )\n",
       "    )\n",
       "    (ln): LayerNorm((768,), eps=1e-06, elementwise_affine=True)\n",
       "  )\n",
       "  (heads): Sequential(\n",
       "    (0): Dropout(p=0.5, inplace=False)\n",
       "    (1): Linear(in_features=768, out_features=120, bias=True)\n",
       "  )\n",
       ")"
      ]
     },
     "execution_count": 7,
     "metadata": {},
     "output_type": "execute_result"
    }
   ],
   "source": [
    "vit_b16 = models.vit_b_16(weights=weights)\n",
    "\n",
    "for param in vit_b16.parameters():\n",
    "    param.requires_grad = False\n",
    "\n",
    "vit_b16.heads = nn.Sequential(nn.Dropout(0.5),\n",
    "                              nn.Linear(768, out_dims))\n",
    "\n",
    "vit_b16.to(device)"
   ]
  },
  {
   "cell_type": "code",
   "execution_count": 8,
   "metadata": {},
   "outputs": [
    {
     "data": {
      "text/plain": [
       "92280"
      ]
     },
     "execution_count": 8,
     "metadata": {},
     "output_type": "execute_result"
    }
   ],
   "source": [
    "trainable_params = sum(param.numel() for param in vit_b16.parameters() if param.requires_grad)\n",
    "trainable_params"
   ]
  },
  {
   "cell_type": "code",
   "execution_count": 9,
   "metadata": {},
   "outputs": [],
   "source": [
    "criterion = nn.CrossEntropyLoss()\n",
    "optimizer = Lion(params=[param for param in vit_b16.parameters() if param.requires_grad], lr=0.0001, weight_decay=0.1)\n",
    "scheduler = optim.lr_scheduler.StepLR(optimizer, step_size=2, gamma=0.1)"
   ]
  },
  {
   "cell_type": "code",
   "execution_count": 10,
   "metadata": {},
   "outputs": [
    {
     "name": "stderr",
     "output_type": "stream",
     "text": [
      "1 epoch(s): 100%|██████████| 288/288 [03:36<00:00,  1.33batch/s, train_loss: 2.4187 train_acc: 0.664 val_loss: 0.357 val_acc: 0.936 learning_rate: 1e-04]\n",
      "2 epoch(s): 100%|██████████| 288/288 [05:31<00:00,  1.15s/batch, train_loss: 0.3046 train_acc: 0.922 val_loss: 0.1695 val_acc: 0.946 learning_rate: 1e-04]\n",
      "3 epoch(s): 100%|██████████| 288/288 [05:31<00:00,  1.15s/batch, train_loss: 0.2068 train_acc: 0.935 val_loss: 0.1665 val_acc: 0.945 learning_rate: 1e-05]\n",
      "4 epoch(s): 100%|██████████| 288/288 [05:30<00:00,  1.15s/batch, train_loss: 0.2042 train_acc: 0.934 val_loss: 0.166 val_acc: 0.944 learning_rate: 1e-05]\n",
      "5 epoch(s): 100%|██████████| 288/288 [05:30<00:00,  1.15s/batch, train_loss: 0.1876 train_acc: 0.941 val_loss: 0.1666 val_acc: 0.944 learning_rate: 1e-06]\n",
      "6 epoch(s): 100%|██████████| 288/288 [05:30<00:00,  1.15s/batch, train_loss: 0.1833 train_acc: 0.942 val_loss: 0.1665 val_acc: 0.945 learning_rate: 1e-06]\n",
      "7 epoch(s): 100%|██████████| 288/288 [05:30<00:00,  1.15s/batch, train_loss: 0.1861 train_acc: 0.942 val_loss: 0.1662 val_acc: 0.945 learning_rate: 1e-07]\n",
      "8 epoch(s): 100%|██████████| 288/288 [05:32<00:00,  1.15s/batch, train_loss: 0.1832 train_acc: 0.941 val_loss: 0.1668 val_acc: 0.945 learning_rate: 1e-07]\n"
     ]
    }
   ],
   "source": [
    "history, best, latest = train_model(model=vit_b16, criterion=criterion, \n",
    "                                    optimizer=optimizer, train=train_data, \n",
    "                                    val=val_data, batch_size=batch_size, \n",
    "                                    epochs=epochs, patience_threshold=patience, \n",
    "                                    scheduler=scheduler, device=device)"
   ]
  },
  {
   "cell_type": "code",
   "execution_count": 11,
   "metadata": {},
   "outputs": [
    {
     "data": {
      "image/png": "[encoded data removed]",
      "text/plain": [
       "<Figure size 2000x1000 with 2 Axes>"
      ]
     },
     "metadata": {},
     "output_type": "display_data"
    }
   ],
   "source": [
    "plot_history(history)"
   ]
  },
  {
   "cell_type": "code",
   "execution_count": 12,
   "metadata": {},
   "outputs": [],
   "source": [
    "model_best = best['model']\n",
    "optimizer_best = best['optimizer']\n",
    "model_lastest = latest['model']\n",
    "optimizer_latest = latest['optimizer']\n",
    "\n",
    "torch.save({\n",
    "            'model_best': model_best.state_dict(),\n",
    "            'optimizer_best': optimizer_best.state_dict(),\n",
    "            'model_latest': model_lastest.state_dict(),\n",
    "            'optimizer_latest':optimizer_latest.state_dict()\n",
    "            },'my_model_v2_final.pt')"
   ]
  },
  {
   "cell_type": "code",
   "execution_count": 13,
   "metadata": {},
   "outputs": [
    {
     "name": "stderr",
     "output_type": "stream",
     "text": [
      "Time remain: 100%|██████████| 1022/1022 [00:34<00:00, 29.43it/s]\n"
     ]
    }
   ],
   "source": [
    "y_true, y_pred, _ = test_model(model_lastest, test_data=val_data, device=device)"
   ]
  },
  {
   "cell_type": "code",
   "execution_count": 14,
   "metadata": {},
   "outputs": [
    {
     "name": "stdout",
     "output_type": "stream",
     "text": [
      "              precision    recall  f1-score   support\n",
      "\n",
      "           0       1.00      1.00      1.00         4\n",
      "           1       1.00      1.00      1.00        14\n",
      "           2       1.00      1.00      1.00         6\n",
      "           3       0.89      1.00      0.94         8\n",
      "           4       0.78      0.88      0.82         8\n",
      "           5       1.00      0.80      0.89         5\n",
      "           6       0.89      1.00      0.94         8\n",
      "           7       1.00      0.89      0.94         9\n",
      "           8       1.00      1.00      1.00         9\n",
      "           9       0.91      1.00      0.95        10\n",
      "          10       1.00      1.00      1.00         8\n",
      "          11       0.92      1.00      0.96        12\n",
      "          12       1.00      1.00      1.00        15\n",
      "          13       1.00      1.00      1.00        10\n",
      "          14       0.88      1.00      0.93         7\n",
      "          15       0.88      1.00      0.93         7\n",
      "          16       0.77      1.00      0.87        10\n",
      "          17       1.00      1.00      1.00         9\n",
      "          18       1.00      1.00      1.00         6\n",
      "          19       0.75      1.00      0.86         3\n",
      "          20       1.00      1.00      1.00         7\n",
      "          21       1.00      1.00      1.00         8\n",
      "          22       1.00      1.00      1.00        11\n",
      "          23       1.00      1.00      1.00         5\n",
      "          24       1.00      1.00      1.00         7\n",
      "          25       0.88      1.00      0.93         7\n",
      "          26       0.88      1.00      0.93         7\n",
      "          27       1.00      1.00      1.00        12\n",
      "          28       1.00      1.00      1.00         6\n",
      "          29       1.00      0.90      0.95        10\n",
      "          30       0.80      1.00      0.89         4\n",
      "          31       1.00      1.00      1.00         3\n",
      "          32       0.86      1.00      0.92         6\n",
      "          33       1.00      0.56      0.71         9\n",
      "          34       1.00      1.00      1.00         7\n",
      "          35       0.90      1.00      0.95         9\n",
      "          36       1.00      1.00      1.00         6\n",
      "          37       1.00      1.00      1.00         7\n",
      "          38       1.00      1.00      1.00         5\n",
      "          39       0.78      0.88      0.82         8\n",
      "          40       1.00      1.00      1.00         7\n",
      "          41       1.00      0.86      0.92         7\n",
      "          42       0.86      1.00      0.92         6\n",
      "          43       0.57      0.50      0.53         8\n",
      "          44       1.00      1.00      1.00         7\n",
      "          45       1.00      1.00      1.00         5\n",
      "          46       1.00      0.67      0.80         9\n",
      "          47       1.00      1.00      1.00         4\n",
      "          48       1.00      0.89      0.94         9\n",
      "          49       1.00      1.00      1.00         5\n",
      "          50       1.00      1.00      1.00        10\n",
      "          51       1.00      1.00      1.00        11\n",
      "          52       0.85      1.00      0.92        11\n",
      "          53       1.00      0.86      0.92         7\n",
      "          54       1.00      1.00      1.00         6\n",
      "          55       1.00      0.86      0.92         7\n",
      "          56       1.00      1.00      1.00        11\n",
      "          57       1.00      0.92      0.96        12\n",
      "          58       1.00      1.00      1.00         6\n",
      "          59       0.73      1.00      0.85        11\n",
      "          60       1.00      1.00      1.00         9\n",
      "          61       1.00      0.94      0.97        16\n",
      "          62       1.00      1.00      1.00        12\n",
      "          63       0.89      0.89      0.89         9\n",
      "          64       1.00      1.00      1.00         8\n",
      "          65       1.00      1.00      1.00         8\n",
      "          66       1.00      0.78      0.88         9\n",
      "          67       1.00      1.00      1.00         8\n",
      "          68       1.00      1.00      1.00        14\n",
      "          69       1.00      1.00      1.00         9\n",
      "          70       0.89      0.89      0.89         9\n",
      "          71       0.92      0.92      0.92        12\n",
      "          72       0.83      1.00      0.91        10\n",
      "          73       1.00      1.00      1.00        12\n",
      "          74       1.00      1.00      1.00         5\n",
      "          75       1.00      1.00      1.00        10\n",
      "          76       0.80      0.67      0.73         6\n",
      "          77       0.83      1.00      0.91         5\n",
      "          78       1.00      0.92      0.96        13\n",
      "          79       1.00      1.00      1.00         3\n",
      "          80       0.86      1.00      0.92         6\n",
      "          81       1.00      1.00      1.00         9\n",
      "          82       1.00      1.00      1.00         9\n",
      "          83       0.89      0.89      0.89         9\n",
      "          84       1.00      1.00      1.00        16\n",
      "          85       1.00      1.00      1.00         9\n",
      "          86       1.00      1.00      1.00         4\n",
      "          87       1.00      1.00      1.00        13\n",
      "          88       1.00      0.92      0.96        12\n",
      "          89       1.00      0.83      0.91         6\n",
      "          90       1.00      1.00      1.00         8\n",
      "          91       1.00      1.00      1.00         8\n",
      "          92       1.00      0.88      0.93         8\n",
      "          93       1.00      1.00      1.00        11\n",
      "          94       1.00      1.00      1.00         8\n",
      "          95       1.00      0.94      0.97        16\n",
      "          96       1.00      1.00      1.00         7\n",
      "          97       1.00      0.80      0.89        20\n",
      "          98       1.00      0.90      0.95        10\n",
      "          99       0.67      1.00      0.80         4\n",
      "         100       0.93      1.00      0.96        13\n",
      "         101       0.79      0.83      0.81        18\n",
      "         102       1.00      0.71      0.83         7\n",
      "         103       1.00      1.00      1.00         8\n",
      "         104       0.90      0.82      0.86        11\n",
      "         105       1.00      1.00      1.00         9\n",
      "         106       0.86      0.86      0.86         7\n",
      "         107       1.00      1.00      1.00         5\n",
      "         108       0.86      0.86      0.86         7\n",
      "         109       0.71      0.71      0.71         7\n",
      "         110       0.75      0.86      0.80         7\n",
      "         111       0.60      0.75      0.67         4\n",
      "         112       1.00      1.00      1.00        11\n",
      "         113       1.00      0.60      0.75         5\n",
      "         114       1.00      1.00      1.00         5\n",
      "         115       1.00      1.00      1.00        10\n",
      "         116       1.00      1.00      1.00        10\n",
      "         117       0.93      1.00      0.97        14\n",
      "         118       1.00      0.90      0.95        10\n",
      "         119       0.75      1.00      0.86         3\n",
      "\n",
      "    accuracy                           0.95      1022\n",
      "   macro avg       0.95      0.95      0.94      1022\n",
      "weighted avg       0.95      0.95      0.94      1022\n",
      "\n",
      "accuracy: 0.9452054794520548\n",
      "f1-score: 0.9414676345363339\n"
     ]
    }
   ],
   "source": [
    "print(classification_report(y_true, y_pred))\n",
    "print('accuracy:', accuracy_score(y_true, y_pred))\n",
    "print('f1-score:', f1_score(y_true, y_pred, average='macro'))"
   ]
  }
 ],
 "metadata": {
  "kernelspec": {
   "display_name": "MyPythonEnv",
   "language": "python",
   "name": "python3"
  },
  "language_info": {
   "codemirror_mode": {
    "name": "ipython",
    "version": 3
   },
   "file_extension": ".py",
   "mimetype": "text/x-python",
   "name": "python",
   "nbconvert_exporter": "python",
   "pygments_lexer": "ipython3",
   "version": "3.10.11"
  },
  "orig_nbformat": 4
 },
 "nbformat": 4,
 "nbformat_minor": 2
}
